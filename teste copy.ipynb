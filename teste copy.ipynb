{
 "cells": [
  {
   "cell_type": "code",
   "execution_count": 2,
   "metadata": {},
   "outputs": [],
   "source": [
    "import pandas as pd\n",
    "import numpy as np\n",
    "from sklearn.model_selection import train_test_split\n",
    "from sklearn.preprocessing import StandardScaler\n",
    "from sklearn.neural_network import MLPRegressor\n",
    "from sklearn.metrics import mean_squared_error, accuracy_score\n",
    "from google.cloud import secretmanager\n",
    "\n",
    "from pymongo.mongo_client import MongoClient\n",
    "from pymongo.server_api import ServerApi"
   ]
  },
  {
   "cell_type": "code",
   "execution_count": 3,
   "metadata": {},
   "outputs": [],
   "source": [
    "def getSecret(projectId : str, secretId : str, versionId : int):\n",
    "    name = f\"projects/{projectId}/secrets/{secretId}/versions/{versionId}\"\n",
    "    client = secretmanager.SecretManagerServiceClient()\n",
    "    response = client.access_secret_version(name=name)\n",
    "    payload = response.payload.data.decode(\"UTF-8\")\n",
    "    return payload"
   ]
  },
  {
   "cell_type": "code",
   "execution_count": 4,
   "metadata": {},
   "outputs": [],
   "source": [
    "mongoConnectionString = getSecret(projectId=\"rising-apricot-401312\", secretId=\"mongoConnectionString\", versionId=1)"
   ]
  },
  {
   "cell_type": "code",
   "execution_count": 5,
   "metadata": {},
   "outputs": [],
   "source": [
    "import pandas as pd\n",
    "\n",
    "# Conecte-se ao servidor MongoDB (certifique-se de que o MongoDB esteja em execução)\n",
    "client = MongoClient(mongoConnectionString, server_api=ServerApi('1'))  # URL de conexão com seu servidor MongoDB\n",
    "\n",
    "# Especifique o banco de dados e a coleção que você deseja consultar\n",
    "db = client[\"moonquakeDb\"]\n",
    "collection = db[\"moonquake\"]\n",
    "\n",
    "# Consulta para buscar os documentos desejados\n",
    "# Por exemplo, aqui estamos buscando todos os documentos na coleção\n",
    "cursor = collection.find({})\n",
    "\n",
    "# Crie uma lista de dicionários a partir dos documentos retornados\n",
    "data = [document for document in cursor]\n",
    "\n",
    "# Feche a conexão com o servidor MongoDB\n",
    "client.close()\n",
    "\n",
    "# Crie um DataFrame do Pandas a partir dos dados\n",
    "df = pd.DataFrame(data)\n"
   ]
  },
  {
   "cell_type": "code",
   "execution_count": 11,
   "metadata": {},
   "outputs": [],
   "source": [
    "import json\n",
    "from bson import json_util"
   ]
  },
  {
   "cell_type": "code",
   "execution_count": 12,
   "metadata": {},
   "outputs": [
    {
     "data": {
      "text/plain": [
       "'[{\"_id\": {\"$oid\": \"652185be293b8604b6c7c0e0\"}, \"Timestamp\": {\"$date\": \"1971-04-17T07:00:55Z\"}, \"Lat\": 48.0, \"Long\": 35.0, \"Magnitude\": 2.8}, {\"_id\": {\"$oid\": \"652185be293b8604b6c7c0e1\"}, \"Timestamp\": {\"$date\": \"1971-05-20T17:25:10Z\"}, \"Lat\": 42.0, \"Long\": -24.0, \"Magnitude\": 2.0}, {\"_id\": {\"$oid\": \"652185be293b8604b6c7c0e2\"}, \"Timestamp\": {\"$date\": \"1971-07-11T13:24:45Z\"}, \"Lat\": 43.0, \"Long\": -47.0, \"Magnitude\": 1.9}, {\"_id\": {\"$oid\": \"652185be293b8604b6c7c0e3\"}, \"Timestamp\": {\"$date\": \"1972-01-02T22:29:40Z\"}, \"Lat\": 54.0, \"Long\": 101.0, \"Magnitude\": 1.9}, {\"_id\": {\"$oid\": \"652185be293b8604b6c7c0e4\"}, \"Timestamp\": {\"$date\": \"1972-09-17T14:35:55Z\"}, \"Lat\": 12.0, \"Long\": 46.0, \"Magnitude\": 1.0}, {\"_id\": {\"$oid\": \"652185be293b8604b6c7c0e5\"}, \"Timestamp\": {\"$date\": \"1972-12-06T23:08:20Z\"}, \"Lat\": 51.0, \"Long\": 45.0, \"Magnitude\": 1.4}, {\"_id\": {\"$oid\": \"652185be293b8604b6c7c0e6\"}, \"Timestamp\": {\"$date\": \"1972-12-09T03:50:15Z\"}, \"Lat\": -20.0, \"Long\": -80.0, \"Magnitude\": 1.2}, {\"_id\": {\"$oid\": \"652185be293b8604b6c7c0e7\"}, \"Timestamp\": {\"$date\": \"1973-02-08T22:52:10Z\"}, \"Lat\": 33.0, \"Long\": 35.0, \"Magnitude\": 0.8}, {\"_id\": {\"$oid\": \"652185be293b8604b6c7c0e8\"}, \"Timestamp\": {\"$date\": \"1973-03-13T07:56:30Z\"}, \"Lat\": -84.0, \"Long\": -134.0, \"Magnitude\": 3.2}, {\"_id\": {\"$oid\": \"652185be293b8604b6c7c0e9\"}, \"Timestamp\": {\"$date\": \"1973-06-20T20:22:00Z\"}, \"Lat\": -1.0, \"Long\": -71.0, \"Magnitude\": 2.2}, {\"_id\": {\"$oid\": \"652185be293b8604b6c7c0ea\"}, \"Timestamp\": {\"$date\": \"1973-10-01T03:58:00Z\"}, \"Lat\": -37.0, \"Long\": -29.0, \"Magnitude\": 1.1}, {\"_id\": {\"$oid\": \"652185be293b8604b6c7c0eb\"}, \"Timestamp\": {\"$date\": \"1974-02-23T21:16:50Z\"}, \"Lat\": 36.0, \"Long\": -16.0, \"Magnitude\": 0.7}, {\"_id\": {\"$oid\": \"652185be293b8604b6c7c0ec\"}, \"Timestamp\": {\"$date\": \"1974-03-27T09:11:00Z\"}, \"Lat\": -48.0, \"Long\": -106.0, \"Magnitude\": 1.6}, {\"_id\": {\"$oid\": \"652185be293b8604b6c7c0ed\"}, \"Timestamp\": {\"$date\": \"1974-04-19T13:35:15Z\"}, \"Lat\": -37.0, \"Long\": 42.0, \"Magnitude\": 0.9}, {\"_id\": {\"$oid\": \"652185be293b8604b6c7c0ee\"}, \"Timestamp\": {\"$date\": \"1974-05-29T20:42:15Z\"}, \"Lat\": NaN, \"Long\": NaN, \"Magnitude\": 0.6}, {\"_id\": {\"$oid\": \"652185be293b8604b6c7c0ef\"}, \"Timestamp\": {\"$date\": \"1974-07-11T00:46:30Z\"}, \"Lat\": 21.0, \"Long\": 88.0, \"Magnitude\": 2.7}, {\"_id\": {\"$oid\": \"652185be293b8604b6c7c0f0\"}, \"Timestamp\": {\"$date\": \"1975-01-03T01:42:00Z\"}, \"Lat\": 29.0, \"Long\": -98.0, \"Magnitude\": 3.2}, {\"_id\": {\"$oid\": \"652185be293b8604b6c7c0f1\"}, \"Timestamp\": {\"$date\": \"1975-01-12T03:14:10Z\"}, \"Lat\": 75.0, \"Long\": 40.0, \"Magnitude\": 1.7}, {\"_id\": {\"$oid\": \"652185be293b8604b6c7c0f2\"}, \"Timestamp\": {\"$date\": \"1975-01-13T00:26:20Z\"}, \"Lat\": -2.0, \"Long\": -51.0, \"Magnitude\": 1.1}, {\"_id\": {\"$oid\": \"652185be293b8604b6c7c0f3\"}, \"Timestamp\": {\"$date\": \"1975-02-13T22:03:50Z\"}, \"Lat\": -19.0, \"Long\": -26.0, \"Magnitude\": 1.4}, {\"_id\": {\"$oid\": \"652185be293b8604b6c7c0f4\"}, \"Timestamp\": {\"$date\": \"1975-05-07T06:37:05Z\"}, \"Lat\": -49.0, \"Long\": -45.0, \"Magnitude\": 1.3}, {\"_id\": {\"$oid\": \"652185be293b8604b6c7c0f5\"}, \"Timestamp\": {\"$date\": \"1975-05-27T23:29:00Z\"}, \"Lat\": 3.0, \"Long\": -58.0, \"Magnitude\": 1.4}, {\"_id\": {\"$oid\": \"652185be293b8604b6c7c0f6\"}, \"Timestamp\": {\"$date\": \"1975-11-10T07:52:55Z\"}, \"Lat\": -8.0, \"Long\": 64.0, \"Magnitude\": 1.8}, {\"_id\": {\"$oid\": \"652185be293b8604b6c7c0f7\"}, \"Timestamp\": {\"$date\": \"1976-01-04T11:18:55Z\"}, \"Lat\": 50.0, \"Long\": 30.0, \"Magnitude\": 1.8}, {\"_id\": {\"$oid\": \"652185be293b8604b6c7c0f8\"}, \"Timestamp\": {\"$date\": \"1976-01-12T08:18:05Z\"}, \"Lat\": 38.0, \"Long\": 44.0, \"Magnitude\": 1.1}, {\"_id\": {\"$oid\": \"652185be293b8604b6c7c0f9\"}, \"Timestamp\": {\"$date\": \"1976-03-06T10:12:40Z\"}, \"Lat\": 50.0, \"Long\": -20.0, \"Magnitude\": 2.3}, {\"_id\": {\"$oid\": \"652185be293b8604b6c7c0fa\"}, \"Timestamp\": {\"$date\": \"1976-03-08T14:42:10Z\"}, \"Lat\": -19.0, \"Long\": -12.0, \"Magnitude\": 1.8}, {\"_id\": {\"$oid\": \"652185be293b8604b6c7c0fb\"}, \"Timestamp\": {\"$date\": \"1976-05-16T12:32:40Z\"}, \"Lat\": 77.0, \"Long\": -10.0, \"Magnitude\": 1.5}]'"
      ]
     },
     "execution_count": 12,
     "metadata": {},
     "output_type": "execute_result"
    }
   ],
   "source": [
    "json.dumps(data,default=json_util.default)"
   ]
  },
  {
   "cell_type": "code",
   "execution_count": 81,
   "metadata": {},
   "outputs": [],
   "source": [
    "df['Date'] = df['Timestamp'].dt.date"
   ]
  },
  {
   "cell_type": "code",
   "execution_count": 82,
   "metadata": {},
   "outputs": [
    {
     "data": {
      "text/html": [
       "<div>\n",
       "<style scoped>\n",
       "    .dataframe tbody tr th:only-of-type {\n",
       "        vertical-align: middle;\n",
       "    }\n",
       "\n",
       "    .dataframe tbody tr th {\n",
       "        vertical-align: top;\n",
       "    }\n",
       "\n",
       "    .dataframe thead th {\n",
       "        text-align: right;\n",
       "    }\n",
       "</style>\n",
       "<table border=\"1\" class=\"dataframe\">\n",
       "  <thead>\n",
       "    <tr style=\"text-align: right;\">\n",
       "      <th></th>\n",
       "      <th>_id</th>\n",
       "      <th>Timestamp</th>\n",
       "      <th>Lat</th>\n",
       "      <th>Long</th>\n",
       "      <th>Magnitude</th>\n",
       "      <th>DateFloat</th>\n",
       "      <th>Date</th>\n",
       "    </tr>\n",
       "  </thead>\n",
       "  <tbody>\n",
       "    <tr>\n",
       "      <th>0</th>\n",
       "      <td>652185be293b8604b6c7c0e0</td>\n",
       "      <td>1971-04-17 07:00:55</td>\n",
       "      <td>48.0</td>\n",
       "      <td>35.0</td>\n",
       "      <td>2.8</td>\n",
       "      <td>4.071966e+16</td>\n",
       "      <td>1971-04-17</td>\n",
       "    </tr>\n",
       "    <tr>\n",
       "      <th>1</th>\n",
       "      <td>652185be293b8604b6c7c0e1</td>\n",
       "      <td>1971-05-20 17:25:10</td>\n",
       "      <td>42.0</td>\n",
       "      <td>-24.0</td>\n",
       "      <td>2.0</td>\n",
       "      <td>4.360831e+16</td>\n",
       "      <td>1971-05-20</td>\n",
       "    </tr>\n",
       "    <tr>\n",
       "      <th>2</th>\n",
       "      <td>652185be293b8604b6c7c0e2</td>\n",
       "      <td>1971-07-11 13:24:45</td>\n",
       "      <td>43.0</td>\n",
       "      <td>-47.0</td>\n",
       "      <td>1.9</td>\n",
       "      <td>4.808668e+16</td>\n",
       "      <td>1971-07-11</td>\n",
       "    </tr>\n",
       "    <tr>\n",
       "      <th>3</th>\n",
       "      <td>652185be293b8604b6c7c0e3</td>\n",
       "      <td>1972-01-02 22:29:40</td>\n",
       "      <td>54.0</td>\n",
       "      <td>101.0</td>\n",
       "      <td>1.9</td>\n",
       "      <td>6.323938e+16</td>\n",
       "      <td>1972-01-02</td>\n",
       "    </tr>\n",
       "    <tr>\n",
       "      <th>4</th>\n",
       "      <td>652185be293b8604b6c7c0e4</td>\n",
       "      <td>1972-09-17 14:35:55</td>\n",
       "      <td>12.0</td>\n",
       "      <td>46.0</td>\n",
       "      <td>1.0</td>\n",
       "      <td>8.558856e+16</td>\n",
       "      <td>1972-09-17</td>\n",
       "    </tr>\n",
       "    <tr>\n",
       "      <th>5</th>\n",
       "      <td>652185be293b8604b6c7c0e5</td>\n",
       "      <td>1972-12-06 23:08:20</td>\n",
       "      <td>51.0</td>\n",
       "      <td>45.0</td>\n",
       "      <td>1.4</td>\n",
       "      <td>9.253130e+16</td>\n",
       "      <td>1972-12-06</td>\n",
       "    </tr>\n",
       "    <tr>\n",
       "      <th>6</th>\n",
       "      <td>652185be293b8604b6c7c0e6</td>\n",
       "      <td>1972-12-09 03:50:15</td>\n",
       "      <td>-20.0</td>\n",
       "      <td>-80.0</td>\n",
       "      <td>1.2</td>\n",
       "      <td>9.272102e+16</td>\n",
       "      <td>1972-12-09</td>\n",
       "    </tr>\n",
       "    <tr>\n",
       "      <th>7</th>\n",
       "      <td>652185be293b8604b6c7c0e7</td>\n",
       "      <td>1973-02-08 22:52:10</td>\n",
       "      <td>33.0</td>\n",
       "      <td>35.0</td>\n",
       "      <td>0.8</td>\n",
       "      <td>9.805993e+16</td>\n",
       "      <td>1973-02-08</td>\n",
       "    </tr>\n",
       "    <tr>\n",
       "      <th>8</th>\n",
       "      <td>652185be293b8604b6c7c0e8</td>\n",
       "      <td>1973-03-13 07:56:30</td>\n",
       "      <td>-84.0</td>\n",
       "      <td>-134.0</td>\n",
       "      <td>3.2</td>\n",
       "      <td>1.008574e+17</td>\n",
       "      <td>1973-03-13</td>\n",
       "    </tr>\n",
       "    <tr>\n",
       "      <th>9</th>\n",
       "      <td>652185be293b8604b6c7c0e9</td>\n",
       "      <td>1973-06-20 20:22:00</td>\n",
       "      <td>-1.0</td>\n",
       "      <td>-71.0</td>\n",
       "      <td>2.2</td>\n",
       "      <td>1.094557e+17</td>\n",
       "      <td>1973-06-20</td>\n",
       "    </tr>\n",
       "    <tr>\n",
       "      <th>10</th>\n",
       "      <td>652185be293b8604b6c7c0ea</td>\n",
       "      <td>1973-10-01 03:58:00</td>\n",
       "      <td>-37.0</td>\n",
       "      <td>-29.0</td>\n",
       "      <td>1.1</td>\n",
       "      <td>1.182959e+17</td>\n",
       "      <td>1973-10-01</td>\n",
       "    </tr>\n",
       "    <tr>\n",
       "      <th>11</th>\n",
       "      <td>652185be293b8604b6c7c0eb</td>\n",
       "      <td>1974-02-23 21:16:50</td>\n",
       "      <td>36.0</td>\n",
       "      <td>-16.0</td>\n",
       "      <td>0.7</td>\n",
       "      <td>1.308862e+17</td>\n",
       "      <td>1974-02-23</td>\n",
       "    </tr>\n",
       "    <tr>\n",
       "      <th>12</th>\n",
       "      <td>652185be293b8604b6c7c0ec</td>\n",
       "      <td>1974-03-27 09:11:00</td>\n",
       "      <td>-48.0</td>\n",
       "      <td>-106.0</td>\n",
       "      <td>1.6</td>\n",
       "      <td>1.336075e+17</td>\n",
       "      <td>1974-03-27</td>\n",
       "    </tr>\n",
       "    <tr>\n",
       "      <th>13</th>\n",
       "      <td>652185be293b8604b6c7c0ed</td>\n",
       "      <td>1974-04-19 13:35:15</td>\n",
       "      <td>-37.0</td>\n",
       "      <td>42.0</td>\n",
       "      <td>0.9</td>\n",
       "      <td>1.356105e+17</td>\n",
       "      <td>1974-04-19</td>\n",
       "    </tr>\n",
       "    <tr>\n",
       "      <th>15</th>\n",
       "      <td>652185be293b8604b6c7c0ef</td>\n",
       "      <td>1974-07-11 00:46:30</td>\n",
       "      <td>21.0</td>\n",
       "      <td>88.0</td>\n",
       "      <td>2.7</td>\n",
       "      <td>1.427356e+17</td>\n",
       "      <td>1974-07-11</td>\n",
       "    </tr>\n",
       "    <tr>\n",
       "      <th>16</th>\n",
       "      <td>652185be293b8604b6c7c0f0</td>\n",
       "      <td>1975-01-03 01:42:00</td>\n",
       "      <td>29.0</td>\n",
       "      <td>-98.0</td>\n",
       "      <td>3.2</td>\n",
       "      <td>1.579453e+17</td>\n",
       "      <td>1975-01-03</td>\n",
       "    </tr>\n",
       "    <tr>\n",
       "      <th>17</th>\n",
       "      <td>652185be293b8604b6c7c0f1</td>\n",
       "      <td>1975-01-12 03:14:10</td>\n",
       "      <td>75.0</td>\n",
       "      <td>40.0</td>\n",
       "      <td>1.7</td>\n",
       "      <td>1.587284e+17</td>\n",
       "      <td>1975-01-12</td>\n",
       "    </tr>\n",
       "    <tr>\n",
       "      <th>18</th>\n",
       "      <td>652185be293b8604b6c7c0f2</td>\n",
       "      <td>1975-01-13 00:26:20</td>\n",
       "      <td>-2.0</td>\n",
       "      <td>-51.0</td>\n",
       "      <td>1.1</td>\n",
       "      <td>1.588048e+17</td>\n",
       "      <td>1975-01-13</td>\n",
       "    </tr>\n",
       "    <tr>\n",
       "      <th>19</th>\n",
       "      <td>652185be293b8604b6c7c0f3</td>\n",
       "      <td>1975-02-13 22:03:50</td>\n",
       "      <td>-19.0</td>\n",
       "      <td>-26.0</td>\n",
       "      <td>1.4</td>\n",
       "      <td>1.615610e+17</td>\n",
       "      <td>1975-02-13</td>\n",
       "    </tr>\n",
       "    <tr>\n",
       "      <th>20</th>\n",
       "      <td>652185be293b8604b6c7c0f4</td>\n",
       "      <td>1975-05-07 06:37:05</td>\n",
       "      <td>-49.0</td>\n",
       "      <td>-45.0</td>\n",
       "      <td>1.3</td>\n",
       "      <td>1.686766e+17</td>\n",
       "      <td>1975-05-07</td>\n",
       "    </tr>\n",
       "    <tr>\n",
       "      <th>21</th>\n",
       "      <td>652185be293b8604b6c7c0f5</td>\n",
       "      <td>1975-05-27 23:29:00</td>\n",
       "      <td>3.0</td>\n",
       "      <td>-58.0</td>\n",
       "      <td>1.4</td>\n",
       "      <td>1.704653e+17</td>\n",
       "      <td>1975-05-27</td>\n",
       "    </tr>\n",
       "    <tr>\n",
       "      <th>22</th>\n",
       "      <td>652185be293b8604b6c7c0f6</td>\n",
       "      <td>1975-11-10 07:52:55</td>\n",
       "      <td>-8.0</td>\n",
       "      <td>64.0</td>\n",
       "      <td>1.8</td>\n",
       "      <td>1.848380e+17</td>\n",
       "      <td>1975-11-10</td>\n",
       "    </tr>\n",
       "    <tr>\n",
       "      <th>23</th>\n",
       "      <td>652185be293b8604b6c7c0f7</td>\n",
       "      <td>1976-01-04 11:18:55</td>\n",
       "      <td>50.0</td>\n",
       "      <td>30.0</td>\n",
       "      <td>1.8</td>\n",
       "      <td>1.896023e+17</td>\n",
       "      <td>1976-01-04</td>\n",
       "    </tr>\n",
       "    <tr>\n",
       "      <th>24</th>\n",
       "      <td>652185be293b8604b6c7c0f8</td>\n",
       "      <td>1976-01-12 08:18:05</td>\n",
       "      <td>38.0</td>\n",
       "      <td>44.0</td>\n",
       "      <td>1.1</td>\n",
       "      <td>1.902827e+17</td>\n",
       "      <td>1976-01-12</td>\n",
       "    </tr>\n",
       "    <tr>\n",
       "      <th>25</th>\n",
       "      <td>652185be293b8604b6c7c0f9</td>\n",
       "      <td>1976-03-06 10:12:40</td>\n",
       "      <td>50.0</td>\n",
       "      <td>-20.0</td>\n",
       "      <td>2.3</td>\n",
       "      <td>1.949552e+17</td>\n",
       "      <td>1976-03-06</td>\n",
       "    </tr>\n",
       "    <tr>\n",
       "      <th>26</th>\n",
       "      <td>652185be293b8604b6c7c0fa</td>\n",
       "      <td>1976-03-08 14:42:10</td>\n",
       "      <td>-19.0</td>\n",
       "      <td>-12.0</td>\n",
       "      <td>1.8</td>\n",
       "      <td>1.951441e+17</td>\n",
       "      <td>1976-03-08</td>\n",
       "    </tr>\n",
       "    <tr>\n",
       "      <th>27</th>\n",
       "      <td>652185be293b8604b6c7c0fb</td>\n",
       "      <td>1976-05-16 12:32:40</td>\n",
       "      <td>77.0</td>\n",
       "      <td>-10.0</td>\n",
       "      <td>1.5</td>\n",
       "      <td>2.010980e+17</td>\n",
       "      <td>1976-05-16</td>\n",
       "    </tr>\n",
       "  </tbody>\n",
       "</table>\n",
       "</div>"
      ],
      "text/plain": [
       "                         _id           Timestamp   Lat   Long  Magnitude  \\\n",
       "0   652185be293b8604b6c7c0e0 1971-04-17 07:00:55  48.0   35.0        2.8   \n",
       "1   652185be293b8604b6c7c0e1 1971-05-20 17:25:10  42.0  -24.0        2.0   \n",
       "2   652185be293b8604b6c7c0e2 1971-07-11 13:24:45  43.0  -47.0        1.9   \n",
       "3   652185be293b8604b6c7c0e3 1972-01-02 22:29:40  54.0  101.0        1.9   \n",
       "4   652185be293b8604b6c7c0e4 1972-09-17 14:35:55  12.0   46.0        1.0   \n",
       "5   652185be293b8604b6c7c0e5 1972-12-06 23:08:20  51.0   45.0        1.4   \n",
       "6   652185be293b8604b6c7c0e6 1972-12-09 03:50:15 -20.0  -80.0        1.2   \n",
       "7   652185be293b8604b6c7c0e7 1973-02-08 22:52:10  33.0   35.0        0.8   \n",
       "8   652185be293b8604b6c7c0e8 1973-03-13 07:56:30 -84.0 -134.0        3.2   \n",
       "9   652185be293b8604b6c7c0e9 1973-06-20 20:22:00  -1.0  -71.0        2.2   \n",
       "10  652185be293b8604b6c7c0ea 1973-10-01 03:58:00 -37.0  -29.0        1.1   \n",
       "11  652185be293b8604b6c7c0eb 1974-02-23 21:16:50  36.0  -16.0        0.7   \n",
       "12  652185be293b8604b6c7c0ec 1974-03-27 09:11:00 -48.0 -106.0        1.6   \n",
       "13  652185be293b8604b6c7c0ed 1974-04-19 13:35:15 -37.0   42.0        0.9   \n",
       "15  652185be293b8604b6c7c0ef 1974-07-11 00:46:30  21.0   88.0        2.7   \n",
       "16  652185be293b8604b6c7c0f0 1975-01-03 01:42:00  29.0  -98.0        3.2   \n",
       "17  652185be293b8604b6c7c0f1 1975-01-12 03:14:10  75.0   40.0        1.7   \n",
       "18  652185be293b8604b6c7c0f2 1975-01-13 00:26:20  -2.0  -51.0        1.1   \n",
       "19  652185be293b8604b6c7c0f3 1975-02-13 22:03:50 -19.0  -26.0        1.4   \n",
       "20  652185be293b8604b6c7c0f4 1975-05-07 06:37:05 -49.0  -45.0        1.3   \n",
       "21  652185be293b8604b6c7c0f5 1975-05-27 23:29:00   3.0  -58.0        1.4   \n",
       "22  652185be293b8604b6c7c0f6 1975-11-10 07:52:55  -8.0   64.0        1.8   \n",
       "23  652185be293b8604b6c7c0f7 1976-01-04 11:18:55  50.0   30.0        1.8   \n",
       "24  652185be293b8604b6c7c0f8 1976-01-12 08:18:05  38.0   44.0        1.1   \n",
       "25  652185be293b8604b6c7c0f9 1976-03-06 10:12:40  50.0  -20.0        2.3   \n",
       "26  652185be293b8604b6c7c0fa 1976-03-08 14:42:10 -19.0  -12.0        1.8   \n",
       "27  652185be293b8604b6c7c0fb 1976-05-16 12:32:40  77.0  -10.0        1.5   \n",
       "\n",
       "       DateFloat        Date  \n",
       "0   4.071966e+16  1971-04-17  \n",
       "1   4.360831e+16  1971-05-20  \n",
       "2   4.808668e+16  1971-07-11  \n",
       "3   6.323938e+16  1972-01-02  \n",
       "4   8.558856e+16  1972-09-17  \n",
       "5   9.253130e+16  1972-12-06  \n",
       "6   9.272102e+16  1972-12-09  \n",
       "7   9.805993e+16  1973-02-08  \n",
       "8   1.008574e+17  1973-03-13  \n",
       "9   1.094557e+17  1973-06-20  \n",
       "10  1.182959e+17  1973-10-01  \n",
       "11  1.308862e+17  1974-02-23  \n",
       "12  1.336075e+17  1974-03-27  \n",
       "13  1.356105e+17  1974-04-19  \n",
       "15  1.427356e+17  1974-07-11  \n",
       "16  1.579453e+17  1975-01-03  \n",
       "17  1.587284e+17  1975-01-12  \n",
       "18  1.588048e+17  1975-01-13  \n",
       "19  1.615610e+17  1975-02-13  \n",
       "20  1.686766e+17  1975-05-07  \n",
       "21  1.704653e+17  1975-05-27  \n",
       "22  1.848380e+17  1975-11-10  \n",
       "23  1.896023e+17  1976-01-04  \n",
       "24  1.902827e+17  1976-01-12  \n",
       "25  1.949552e+17  1976-03-06  \n",
       "26  1.951441e+17  1976-03-08  \n",
       "27  2.010980e+17  1976-05-16  "
      ]
     },
     "execution_count": 82,
     "metadata": {},
     "output_type": "execute_result"
    }
   ],
   "source": [
    "df"
   ]
  },
  {
   "cell_type": "code",
   "execution_count": 47,
   "metadata": {},
   "outputs": [],
   "source": [
    "df['DateFloat'] = df['Timestamp'].values.astype(\"float64\")\n",
    "df.dropna(axis=0, inplace=True)\n",
    "X = df[['DateFloat', 'Lat', 'Long']]\n",
    "y = df[['Magnitude']]"
   ]
  },
  {
   "cell_type": "code",
   "execution_count": 48,
   "metadata": {},
   "outputs": [],
   "source": [
    "# Divida o conjunto de dados em treinamento e teste\n",
    "X_train, X_test, y_train, y_test = train_test_split(X, y, test_size=0.2, random_state=42)"
   ]
  },
  {
   "cell_type": "code",
   "execution_count": 49,
   "metadata": {},
   "outputs": [],
   "source": [
    "# Normalização dos dados\n",
    "scaler = StandardScaler()\n",
    "X_train_scaled = scaler.fit_transform(X_train)\n",
    "X_test_scaled = scaler.transform(X_test)"
   ]
  },
  {
   "cell_type": "code",
   "execution_count": 50,
   "metadata": {},
   "outputs": [],
   "source": [
    "# Crie uma rede neural regressora\n",
    "mlp_regressor = MLPRegressor(hidden_layer_sizes=(100, 50), max_iter=1000, random_state=42)"
   ]
  },
  {
   "cell_type": "code",
   "execution_count": 51,
   "metadata": {},
   "outputs": [
    {
     "name": "stderr",
     "output_type": "stream",
     "text": [
      "/Users/lucasbarros/anaconda3/lib/python3.10/site-packages/sklearn/neural_network/_multilayer_perceptron.py:1607: DataConversionWarning: A column-vector y was passed when a 1d array was expected. Please change the shape of y to (n_samples, ), for example using ravel().\n",
      "  y = column_or_1d(y, warn=True)\n"
     ]
    },
    {
     "data": {
      "text/html": [
       "<style>#sk-container-id-4 {color: black;background-color: white;}#sk-container-id-4 pre{padding: 0;}#sk-container-id-4 div.sk-toggleable {background-color: white;}#sk-container-id-4 label.sk-toggleable__label {cursor: pointer;display: block;width: 100%;margin-bottom: 0;padding: 0.3em;box-sizing: border-box;text-align: center;}#sk-container-id-4 label.sk-toggleable__label-arrow:before {content: \"▸\";float: left;margin-right: 0.25em;color: #696969;}#sk-container-id-4 label.sk-toggleable__label-arrow:hover:before {color: black;}#sk-container-id-4 div.sk-estimator:hover label.sk-toggleable__label-arrow:before {color: black;}#sk-container-id-4 div.sk-toggleable__content {max-height: 0;max-width: 0;overflow: hidden;text-align: left;background-color: #f0f8ff;}#sk-container-id-4 div.sk-toggleable__content pre {margin: 0.2em;color: black;border-radius: 0.25em;background-color: #f0f8ff;}#sk-container-id-4 input.sk-toggleable__control:checked~div.sk-toggleable__content {max-height: 200px;max-width: 100%;overflow: auto;}#sk-container-id-4 input.sk-toggleable__control:checked~label.sk-toggleable__label-arrow:before {content: \"▾\";}#sk-container-id-4 div.sk-estimator input.sk-toggleable__control:checked~label.sk-toggleable__label {background-color: #d4ebff;}#sk-container-id-4 div.sk-label input.sk-toggleable__control:checked~label.sk-toggleable__label {background-color: #d4ebff;}#sk-container-id-4 input.sk-hidden--visually {border: 0;clip: rect(1px 1px 1px 1px);clip: rect(1px, 1px, 1px, 1px);height: 1px;margin: -1px;overflow: hidden;padding: 0;position: absolute;width: 1px;}#sk-container-id-4 div.sk-estimator {font-family: monospace;background-color: #f0f8ff;border: 1px dotted black;border-radius: 0.25em;box-sizing: border-box;margin-bottom: 0.5em;}#sk-container-id-4 div.sk-estimator:hover {background-color: #d4ebff;}#sk-container-id-4 div.sk-parallel-item::after {content: \"\";width: 100%;border-bottom: 1px solid gray;flex-grow: 1;}#sk-container-id-4 div.sk-label:hover label.sk-toggleable__label {background-color: #d4ebff;}#sk-container-id-4 div.sk-serial::before {content: \"\";position: absolute;border-left: 1px solid gray;box-sizing: border-box;top: 0;bottom: 0;left: 50%;z-index: 0;}#sk-container-id-4 div.sk-serial {display: flex;flex-direction: column;align-items: center;background-color: white;padding-right: 0.2em;padding-left: 0.2em;position: relative;}#sk-container-id-4 div.sk-item {position: relative;z-index: 1;}#sk-container-id-4 div.sk-parallel {display: flex;align-items: stretch;justify-content: center;background-color: white;position: relative;}#sk-container-id-4 div.sk-item::before, #sk-container-id-4 div.sk-parallel-item::before {content: \"\";position: absolute;border-left: 1px solid gray;box-sizing: border-box;top: 0;bottom: 0;left: 50%;z-index: -1;}#sk-container-id-4 div.sk-parallel-item {display: flex;flex-direction: column;z-index: 1;position: relative;background-color: white;}#sk-container-id-4 div.sk-parallel-item:first-child::after {align-self: flex-end;width: 50%;}#sk-container-id-4 div.sk-parallel-item:last-child::after {align-self: flex-start;width: 50%;}#sk-container-id-4 div.sk-parallel-item:only-child::after {width: 0;}#sk-container-id-4 div.sk-dashed-wrapped {border: 1px dashed gray;margin: 0 0.4em 0.5em 0.4em;box-sizing: border-box;padding-bottom: 0.4em;background-color: white;}#sk-container-id-4 div.sk-label label {font-family: monospace;font-weight: bold;display: inline-block;line-height: 1.2em;}#sk-container-id-4 div.sk-label-container {text-align: center;}#sk-container-id-4 div.sk-container {/* jupyter's `normalize.less` sets `[hidden] { display: none; }` but bootstrap.min.css set `[hidden] { display: none !important; }` so we also need the `!important` here to be able to override the default hidden behavior on the sphinx rendered scikit-learn.org. See: https://github.com/scikit-learn/scikit-learn/issues/21755 */display: inline-block !important;position: relative;}#sk-container-id-4 div.sk-text-repr-fallback {display: none;}</style><div id=\"sk-container-id-4\" class=\"sk-top-container\"><div class=\"sk-text-repr-fallback\"><pre>MLPRegressor(hidden_layer_sizes=(100, 50), max_iter=1000, random_state=42)</pre><b>In a Jupyter environment, please rerun this cell to show the HTML representation or trust the notebook. <br />On GitHub, the HTML representation is unable to render, please try loading this page with nbviewer.org.</b></div><div class=\"sk-container\" hidden><div class=\"sk-item\"><div class=\"sk-estimator sk-toggleable\"><input class=\"sk-toggleable__control sk-hidden--visually\" id=\"sk-estimator-id-4\" type=\"checkbox\" checked><label for=\"sk-estimator-id-4\" class=\"sk-toggleable__label sk-toggleable__label-arrow\">MLPRegressor</label><div class=\"sk-toggleable__content\"><pre>MLPRegressor(hidden_layer_sizes=(100, 50), max_iter=1000, random_state=42)</pre></div></div></div></div></div>"
      ],
      "text/plain": [
       "MLPRegressor(hidden_layer_sizes=(100, 50), max_iter=1000, random_state=42)"
      ]
     },
     "execution_count": 51,
     "metadata": {},
     "output_type": "execute_result"
    }
   ],
   "source": [
    "# Treine o modelo\n",
    "mlp_regressor.fit(X_train_scaled, y_train)"
   ]
  },
  {
   "cell_type": "code",
   "execution_count": 55,
   "metadata": {},
   "outputs": [
    {
     "data": {
      "text/plain": [
       "array([[-0.72166748, -2.71391301, -2.23261902],\n",
       "       [-0.01729253, -1.46687756,  0.89660354],\n",
       "       [-0.54739687, -0.51170148, -1.11249958],\n",
       "       [ 0.98044766, -0.69743016,  1.28775636],\n",
       "       [-1.94053668,  0.78839931,  0.77214583],\n",
       "       [-0.11304456,  0.47000728, -0.13461753]])"
      ]
     },
     "execution_count": 55,
     "metadata": {},
     "output_type": "execute_result"
    }
   ],
   "source": [
    "X_test_scaled"
   ]
  },
  {
   "cell_type": "code",
   "execution_count": 52,
   "metadata": {},
   "outputs": [
    {
     "name": "stdout",
     "output_type": "stream",
     "text": [
      "Erro médio quadrático (MSE): 1.1083186869139732\n"
     ]
    }
   ],
   "source": [
    "# Faça previsões no conjunto de teste\n",
    "y_pred = mlp_regressor.predict(X_test_scaled)\n",
    "\n",
    "# Avalie o desempenho do modelo\n",
    "mse = mean_squared_error(y_test, y_pred)\n",
    "print(f\"Erro médio quadrático (MSE): {mse}\")"
   ]
  },
  {
   "cell_type": "code",
   "execution_count": 53,
   "metadata": {},
   "outputs": [
    {
     "data": {
      "text/plain": [
       "array([1.6250944 , 1.91247933, 1.41950309, 2.65574878, 1.52501476,\n",
       "       1.12119036])"
      ]
     },
     "execution_count": 53,
     "metadata": {},
     "output_type": "execute_result"
    }
   ],
   "source": [
    "y_pred"
   ]
  },
  {
   "cell_type": "code",
   "execution_count": 54,
   "metadata": {},
   "outputs": [
    {
     "data": {
      "text/html": [
       "<div>\n",
       "<style scoped>\n",
       "    .dataframe tbody tr th:only-of-type {\n",
       "        vertical-align: middle;\n",
       "    }\n",
       "\n",
       "    .dataframe tbody tr th {\n",
       "        vertical-align: top;\n",
       "    }\n",
       "\n",
       "    .dataframe thead th {\n",
       "        text-align: right;\n",
       "    }\n",
       "</style>\n",
       "<table border=\"1\" class=\"dataframe\">\n",
       "  <thead>\n",
       "    <tr style=\"text-align: right;\">\n",
       "      <th></th>\n",
       "      <th>Magnitude</th>\n",
       "    </tr>\n",
       "  </thead>\n",
       "  <tbody>\n",
       "    <tr>\n",
       "      <th>8</th>\n",
       "      <td>3.2</td>\n",
       "    </tr>\n",
       "    <tr>\n",
       "      <th>13</th>\n",
       "      <td>0.9</td>\n",
       "    </tr>\n",
       "    <tr>\n",
       "      <th>9</th>\n",
       "      <td>2.2</td>\n",
       "    </tr>\n",
       "    <tr>\n",
       "      <th>22</th>\n",
       "      <td>1.8</td>\n",
       "    </tr>\n",
       "    <tr>\n",
       "      <th>0</th>\n",
       "      <td>2.8</td>\n",
       "    </tr>\n",
       "    <tr>\n",
       "      <th>11</th>\n",
       "      <td>0.7</td>\n",
       "    </tr>\n",
       "  </tbody>\n",
       "</table>\n",
       "</div>"
      ],
      "text/plain": [
       "    Magnitude\n",
       "8         3.2\n",
       "13        0.9\n",
       "9         2.2\n",
       "22        1.8\n",
       "0         2.8\n",
       "11        0.7"
      ]
     },
     "execution_count": 54,
     "metadata": {},
     "output_type": "execute_result"
    }
   ],
   "source": [
    "y_test"
   ]
  },
  {
   "cell_type": "code",
   "execution_count": 58,
   "metadata": {},
   "outputs": [
    {
     "data": {
      "text/html": [
       "<div>\n",
       "<style scoped>\n",
       "    .dataframe tbody tr th:only-of-type {\n",
       "        vertical-align: middle;\n",
       "    }\n",
       "\n",
       "    .dataframe tbody tr th {\n",
       "        vertical-align: top;\n",
       "    }\n",
       "\n",
       "    .dataframe thead th {\n",
       "        text-align: right;\n",
       "    }\n",
       "</style>\n",
       "<table border=\"1\" class=\"dataframe\">\n",
       "  <thead>\n",
       "    <tr style=\"text-align: right;\">\n",
       "      <th></th>\n",
       "      <th>DateFloat</th>\n",
       "      <th>Lat</th>\n",
       "      <th>Long</th>\n",
       "    </tr>\n",
       "  </thead>\n",
       "  <tbody>\n",
       "    <tr>\n",
       "      <th>8</th>\n",
       "      <td>1.008574e+17</td>\n",
       "      <td>-84.0</td>\n",
       "      <td>-134.0</td>\n",
       "    </tr>\n",
       "    <tr>\n",
       "      <th>13</th>\n",
       "      <td>1.356105e+17</td>\n",
       "      <td>-37.0</td>\n",
       "      <td>42.0</td>\n",
       "    </tr>\n",
       "    <tr>\n",
       "      <th>9</th>\n",
       "      <td>1.094557e+17</td>\n",
       "      <td>-1.0</td>\n",
       "      <td>-71.0</td>\n",
       "    </tr>\n",
       "    <tr>\n",
       "      <th>22</th>\n",
       "      <td>1.848380e+17</td>\n",
       "      <td>-8.0</td>\n",
       "      <td>64.0</td>\n",
       "    </tr>\n",
       "    <tr>\n",
       "      <th>0</th>\n",
       "      <td>4.071966e+16</td>\n",
       "      <td>48.0</td>\n",
       "      <td>35.0</td>\n",
       "    </tr>\n",
       "    <tr>\n",
       "      <th>11</th>\n",
       "      <td>1.308862e+17</td>\n",
       "      <td>36.0</td>\n",
       "      <td>-16.0</td>\n",
       "    </tr>\n",
       "  </tbody>\n",
       "</table>\n",
       "</div>"
      ],
      "text/plain": [
       "       DateFloat   Lat   Long\n",
       "8   1.008574e+17 -84.0 -134.0\n",
       "13  1.356105e+17 -37.0   42.0\n",
       "9   1.094557e+17  -1.0  -71.0\n",
       "22  1.848380e+17  -8.0   64.0\n",
       "0   4.071966e+16  48.0   35.0\n",
       "11  1.308862e+17  36.0  -16.0"
      ]
     },
     "execution_count": 58,
     "metadata": {},
     "output_type": "execute_result"
    }
   ],
   "source": [
    "X_test"
   ]
  },
  {
   "cell_type": "code",
   "execution_count": 62,
   "metadata": {},
   "outputs": [
    {
     "ename": "AttributeError",
     "evalue": "'str' object has no attribute 'astype'",
     "output_type": "error",
     "traceback": [
      "\u001b[0;31m---------------------------------------------------------------------------\u001b[0m",
      "\u001b[0;31mAttributeError\u001b[0m                            Traceback (most recent call last)",
      "\u001b[1;32m/Users/lucasbarros/Developer/[01] Projetos/[02] Moonquake Nasa/teste.ipynb Cell 15\u001b[0m line \u001b[0;36m2\n\u001b[1;32m      <a href='vscode-notebook-cell:/Users/lucasbarros/Developer/%5B01%5D%20Projetos/%5B02%5D%20Moonquake%20Nasa/teste.ipynb#X21sZmlsZQ%3D%3D?line=0'>1</a>\u001b[0m teste \u001b[39m=\u001b[39m pd\u001b[39m.\u001b[39mDataFrame({\n\u001b[0;32m----> <a href='vscode-notebook-cell:/Users/lucasbarros/Developer/%5B01%5D%20Projetos/%5B02%5D%20Moonquake%20Nasa/teste.ipynb#X21sZmlsZQ%3D%3D?line=1'>2</a>\u001b[0m     \u001b[39m'\u001b[39m\u001b[39mDateFloat\u001b[39m\u001b[39m'\u001b[39m:[\u001b[39m'\u001b[39;49m\u001b[39m2023-09-07\u001b[39;49m\u001b[39m'\u001b[39;49m\u001b[39m.\u001b[39;49mastype(\u001b[39m\"\u001b[39m\u001b[39mfloat64\u001b[39m\u001b[39m\"\u001b[39m)],\n\u001b[1;32m      <a href='vscode-notebook-cell:/Users/lucasbarros/Developer/%5B01%5D%20Projetos/%5B02%5D%20Moonquake%20Nasa/teste.ipynb#X21sZmlsZQ%3D%3D?line=2'>3</a>\u001b[0m     \u001b[39m'\u001b[39m\u001b[39mLat\u001b[39m\u001b[39m'\u001b[39m:[\u001b[39m'\u001b[39m\u001b[39m-84\u001b[39m\u001b[39m'\u001b[39m],\n\u001b[1;32m      <a href='vscode-notebook-cell:/Users/lucasbarros/Developer/%5B01%5D%20Projetos/%5B02%5D%20Moonquake%20Nasa/teste.ipynb#X21sZmlsZQ%3D%3D?line=3'>4</a>\u001b[0m     \u001b[39m'\u001b[39m\u001b[39mLong\u001b[39m\u001b[39m'\u001b[39m:[\u001b[39m'\u001b[39m\u001b[39m-134\u001b[39m\u001b[39m'\u001b[39m]\n\u001b[1;32m      <a href='vscode-notebook-cell:/Users/lucasbarros/Developer/%5B01%5D%20Projetos/%5B02%5D%20Moonquake%20Nasa/teste.ipynb#X21sZmlsZQ%3D%3D?line=4'>5</a>\u001b[0m })\n",
      "\u001b[0;31mAttributeError\u001b[0m: 'str' object has no attribute 'astype'"
     ]
    }
   ],
   "source": [
    "teste = pd.DataFrame({\n",
    "    'DateFloat':['2023-09-07'.astype(\"float64\")],\n",
    "    'Lat':['-84'],\n",
    "    'Long':['-134']\n",
    "})"
   ]
  },
  {
   "cell_type": "code",
   "execution_count": 74,
   "metadata": {},
   "outputs": [
    {
     "data": {
      "text/plain": [
       "Timestamp('1971-04-17 07:00:55')"
      ]
     },
     "execution_count": 74,
     "metadata": {},
     "output_type": "execute_result"
    }
   ],
   "source": [
    "df['Timestamp'][0]"
   ]
  },
  {
   "cell_type": "code",
   "execution_count": 65,
   "metadata": {},
   "outputs": [
    {
     "ename": "AttributeError",
     "evalue": "'str' object has no attribute 'astype'",
     "output_type": "error",
     "traceback": [
      "\u001b[0;31m---------------------------------------------------------------------------\u001b[0m",
      "\u001b[0;31mAttributeError\u001b[0m                            Traceback (most recent call last)",
      "\u001b[1;32m/Users/lucasbarros/Developer/[01] Projetos/[02] Moonquake Nasa/teste.ipynb Cell 16\u001b[0m line \u001b[0;36m1\n\u001b[0;32m----> <a href='vscode-notebook-cell:/Users/lucasbarros/Developer/%5B01%5D%20Projetos/%5B02%5D%20Moonquake%20Nasa/teste.ipynb#X23sZmlsZQ%3D%3D?line=0'>1</a>\u001b[0m \u001b[39m'\u001b[39;49m\u001b[39m1971-04-17 07:00:55\u001b[39;49m\u001b[39m'\u001b[39;49m\u001b[39m.\u001b[39;49mastype(\u001b[39m\"\u001b[39m\u001b[39mfloat64\u001b[39m\u001b[39m\"\u001b[39m)\n",
      "\u001b[0;31mAttributeError\u001b[0m: 'str' object has no attribute 'astype'"
     ]
    }
   ],
   "source": [
    "('1971-04-17 07:00:55').astype(\"float64\")"
   ]
  },
  {
   "cell_type": "code",
   "execution_count": null,
   "metadata": {},
   "outputs": [],
   "source": [
    "X_train_scaled = scaler.fit_transform(X_train)"
   ]
  }
 ],
 "metadata": {
  "kernelspec": {
   "display_name": "Python 3",
   "language": "python",
   "name": "python3"
  },
  "language_info": {
   "codemirror_mode": {
    "name": "ipython",
    "version": 3
   },
   "file_extension": ".py",
   "mimetype": "text/x-python",
   "name": "python",
   "nbconvert_exporter": "python",
   "pygments_lexer": "ipython3",
   "version": "3.10.13"
  },
  "orig_nbformat": 4
 },
 "nbformat": 4,
 "nbformat_minor": 2
}
